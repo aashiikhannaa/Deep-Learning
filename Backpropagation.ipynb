{
 "cells": [
  {
   "cell_type": "markdown",
   "id": "761cc053",
   "metadata": {
    "id": "761cc053"
   },
   "source": [
    "Prac 5 DL Lab \n",
    "Backpropagation for iris dataset\n",
    "inputs = 4\n",
    "hidden = 1\n",
    "output = 3"
   ]
  },
  {
   "cell_type": "code",
   "execution_count": 26,
   "id": "pjs7f02Vd1pZ",
   "metadata": {
    "id": "pjs7f02Vd1pZ"
   },
   "outputs": [],
   "source": [
    "import numpy as np\n",
    "from sklearn.datasets import load_iris\n",
    "from sklearn.model_selection import train_test_split\n",
    "from random import random, seed\n",
    "# Load the iris dataset\n",
    "iris = load_iris()\n",
    "X, y = iris.data, iris.target\n",
    "# Split the dataset into training and testing sets\n",
    "X_train, X_test, y_train, y_test = train_test_split(X, y, test_size=0.2)"
   ]
  },
  {
   "cell_type": "code",
   "execution_count": 29,
   "id": "3Y8Il-iT5xck",
   "metadata": {
    "colab": {
     "base_uri": "https://localhost:8080/"
    },
    "id": "3Y8Il-iT5xck",
    "outputId": "78517819-fb69-4495-c1af-b0c4a9ccce81"
   },
   "outputs": [
    {
     "name": "stdout",
     "output_type": "stream",
     "text": [
      "Input layer: 4 neurons\n",
      "Hidden layer: 1 neurons\n",
      "Output layer: 3 neurons\n",
      "Input weights: [[-1.87845622]\n",
      " [ 1.18289105]\n",
      " [ 1.73813716]\n",
      " [-0.7628373 ]]\n",
      "Input bias: [[0.]]\n",
      "Hidden weights: [[-1.41488001  0.49111791 -0.22714872]]\n",
      "Hidden bias: [[0. 0. 0.]]\n"
     ]
    }
   ],
   "source": [
    "seed(42)\n",
    "# Define the neural network architecture\n",
    "input_size = X.shape[1] # number of features in input data\n",
    "print(f\"Input layer: {input_size} neurons\")\n",
    "\n",
    "hidden_size = 1 # number of neurons in hidden layer\n",
    "print(f\"Hidden layer: {hidden_size} neurons\")\n",
    "\n",
    "output_size = 3 # number of neurons in output layer\n",
    "print(f\"Output layer: {output_size} neurons\")\n",
    "\n",
    "# Initialize the weights and biases for the hidden and output layers\n",
    "W1 = np.random.randn(input_size, hidden_size)\n",
    "b1 = np.zeros((1, hidden_size))\n",
    "W2 = np.random.randn(hidden_size, output_size)\n",
    "b2 = np.zeros((1, output_size))\n",
    "\n",
    "print(f\"Input weights: {W1}\")\n",
    "print(f\"Input bias: {b1}\")\n",
    "print(f\"Hidden weights: {W2}\")\n",
    "print(f\"Hidden bias: {b2}\")\n"
   ]
  },
  {
   "cell_type": "code",
   "execution_count": 30,
   "id": "R9TYtADq5z3L",
   "metadata": {
    "id": "R9TYtADq5z3L"
   },
   "outputs": [],
   "source": [
    "def forward_propagation(X, W1, b1, W2, b2):\n",
    "  # Calculate the input to the hidden layer\n",
    "  hidden_input = np.dot(X, W1) + b1  # hidden = input x weight + bias\n",
    "  # Apply the ReLU activation function\n",
    "  hidden_output = np.maximum(0, hidden_input) # output of hidden = activation(hidden)\n",
    "  \n",
    "  # Calculate the input to the output layer\n",
    "  output_input = np.dot(hidden_output, W2) + b2\n",
    "  # Apply the softmax activation function to get the output probabilities\n",
    "  exp_scores = np.exp(output_input)\n",
    "  predicted_output = exp_scores / np.sum(exp_scores, axis=1, keepdims=True)\n",
    "\n",
    "  #print(f\"Predicted output: {predicted_output}\")\n",
    "  return hidden_input, hidden_output, output_input, predicted_output"
   ]
  },
  {
   "cell_type": "code",
   "execution_count": 31,
   "id": "o6-NJNAm52N6",
   "metadata": {
    "id": "o6-NJNAm52N6"
   },
   "outputs": [],
   "source": [
    "def backward_propagation(X, y, hidden_input, hidden_output, output_input, predicted_output, W1, b1, W2, b2, learning_rate):\n",
    "  # Calculate the error term for the output layer\n",
    "  error_output = predicted_output\n",
    "  error_output[range(len(X)), y] -= 1 #since 1 is the expected output (probabilistic)\n",
    "  \n",
    "  # Calculate the gradients for the output layer weights and biases\n",
    "  dW2 = np.dot(hidden_output.T, error_output)\n",
    "  db2 = np.sum(error_output, axis=0, keepdims=True)\n",
    "  \n",
    "  # Calculate the error term for the hidden layer\n",
    "  error_hidden = np.dot(error_output, W2.T) * (hidden_input > 0)\n",
    " \n",
    "  # Calculate the gradients for the hidden layer weights and biases\n",
    "  dW1 = np.dot(X.T, error_hidden)\n",
    "  db1 = np.sum(error_hidden, axis=0)\n",
    "  \n",
    "  # Update the weights and biases using gradient descent\n",
    "  W1 -= learning_rate * dW1\n",
    "  b1 -= learning_rate * db1\n",
    "  W2 -= learning_rate * dW2\n",
    "  b2 -= learning_rate * db2\n",
    "  \n",
    "  return W1, b1, W2, b2"
   ]
  },
  {
   "cell_type": "code",
   "execution_count": 32,
   "id": "bSMLxtg_5-Yy",
   "metadata": {
    "colab": {
     "base_uri": "https://localhost:8080/"
    },
    "id": "bSMLxtg_5-Yy",
    "outputId": "be5925fa-30d1-4aab-e4c9-cdcc9afbd6c5"
   },
   "outputs": [
    {
     "name": "stdout",
     "output_type": "stream",
     "text": [
      "epoch 0: loss = 1.0976828712849733\n",
      "epoch 1: loss = 1.0885654467427641\n",
      "epoch 2: loss = 1.1672673871754895\n",
      "epoch 3: loss = 1.1369073396195355\n",
      "epoch 4: loss = 1.1145215091301983\n",
      "epoch 5: loss = 1.1048246919842233\n",
      "epoch 6: loss = 1.100871962024843\n",
      "epoch 7: loss = 1.09933090079839\n",
      "epoch 8: loss = 1.0987471728021112\n",
      "epoch 9: loss = 1.0985299515108518\n"
     ]
    }
   ],
   "source": [
    "def compute_loss(probs, y):\n",
    "  num_examples = len(y)\n",
    "  # Compute the cross-entropy loss\n",
    "  log_probs = -np.log(probs[range(num_examples), y])\n",
    "  loss = np.sum(log_probs) / num_examples\n",
    "  return loss\n",
    "\n",
    "# Train the model using gradient descent\n",
    "num_epochs = 10\n",
    "learning_rate = 0.01\n",
    "\n",
    "for epoch in range(num_epochs):\n",
    "  # Forward propagation\n",
    "  hidden_input, hidden_output, output_input, predicted_output = forward_propagation(X_train, W1, b1, W2, b2)\n",
    "  # Compute the loss\n",
    "  loss = compute_loss(predicted_output, y_train)\n",
    "  # Backward propagation\n",
    "  W1, b1, W2, b2 = backward_propagation(X_train, y_train, hidden_input, hidden_output, output_input, predicted_output ,W1, b1, W2, b2, learning_rate)\n",
    "  print(f\"epoch {epoch}: loss = {loss}\")"
   ]
  }
 ],
 "metadata": {
  "accelerator": "GPU",
  "colab": {
   "provenance": []
  },
  "gpuClass": "standard",
  "kernelspec": {
   "display_name": "Python 3 (ipykernel)",
   "language": "python",
   "name": "python3"
  },
  "language_info": {
   "codemirror_mode": {
    "name": "ipython",
    "version": 3
   },
   "file_extension": ".py",
   "mimetype": "text/x-python",
   "name": "python",
   "nbconvert_exporter": "python",
   "pygments_lexer": "ipython3",
   "version": "3.9.13"
  }
 },
 "nbformat": 4,
 "nbformat_minor": 5
}
